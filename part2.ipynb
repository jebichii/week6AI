{
 "cells": [
  {
   "cell_type": "markdown",
   "id": "16c79d7f-d648-4cda-81e7-bbb02600a643",
   "metadata": {},
   "source": [
    "# 🔍 Edge AI Prototype: Recyclable Item Classification with TensorFlow Lite\n",
    "\n",
    "## 🎯 Objective\n",
    "- Train a lightweight CNN model to classify recyclable items.\n",
    "- Convert to TensorFlow Lite for edge deployment.\n",
    "- Test on sample images and report performance.\n",
    "- Highlight Edge AI advantages in real-time applications.\n",
    "\n",
    "---\n"
   ]
  },
  {
   "cell_type": "code",
   "execution_count": 4,
   "id": "a5e0e058-95ff-4169-b992-f2e8211e5386",
   "metadata": {},
   "outputs": [
    {
     "name": "stderr",
     "output_type": "stream",
     "text": [
      "ERROR: Could not find a version that satisfies the requirement tensorflow (from versions: none)\n",
      "ERROR: No matching distribution found for tensorflow\n",
      "ERROR: Could not find a version that satisfies the requirement tensorflow (from versions: none)\n",
      "ERROR: No matching distribution found for tensorflow\n"
     ]
    },
    {
     "ename": "ModuleNotFoundError",
     "evalue": "No module named 'tensorflow'",
     "output_type": "error",
     "traceback": [
      "\u001b[31m---------------------------------------------------------------------------\u001b[39m",
      "\u001b[31mModuleNotFoundError\u001b[39m                       Traceback (most recent call last)",
      "\u001b[36mCell\u001b[39m\u001b[36m \u001b[39m\u001b[32mIn[4]\u001b[39m\u001b[32m, line 5\u001b[39m\n\u001b[32m      2\u001b[39m get_ipython().system(\u001b[33m'\u001b[39m\u001b[33mpip install tensorflow tensorflow-datasets matplotlib\u001b[39m\u001b[33m'\u001b[39m)\n\u001b[32m      3\u001b[39m get_ipython().system(\u001b[33m'\u001b[39m\u001b[33mpip install tensorflow\u001b[39m\u001b[33m'\u001b[39m)\n\u001b[32m----> \u001b[39m\u001b[32m5\u001b[39m \u001b[38;5;28;01mimport\u001b[39;00m\u001b[38;5;250m \u001b[39m\u001b[34;01mtensorflow\u001b[39;00m\u001b[38;5;250m \u001b[39m\u001b[38;5;28;01mas\u001b[39;00m\u001b[38;5;250m \u001b[39m\u001b[34;01mtf\u001b[39;00m\n\u001b[32m      6\u001b[39m \u001b[38;5;28;01mimport\u001b[39;00m\u001b[38;5;250m \u001b[39m\u001b[34;01mnumpy\u001b[39;00m\u001b[38;5;250m \u001b[39m\u001b[38;5;28;01mas\u001b[39;00m\u001b[38;5;250m \u001b[39m\u001b[34;01mnp\u001b[39;00m\n\u001b[32m      7\u001b[39m \u001b[38;5;28;01mimport\u001b[39;00m\u001b[38;5;250m \u001b[39m\u001b[34;01mmatplotlib\u001b[39;00m\u001b[34;01m.\u001b[39;00m\u001b[34;01mpyplot\u001b[39;00m\u001b[38;5;250m \u001b[39m\u001b[38;5;28;01mas\u001b[39;00m\u001b[38;5;250m \u001b[39m\u001b[34;01mplt\u001b[39;00m\n",
      "\u001b[31mModuleNotFoundError\u001b[39m: No module named 'tensorflow'"
     ]
    }
   ],
   "source": [
    "# 📦 Install necessary libraries\n",
    "!pip install tensorflow tensorflow-datasets matplotlib\n",
    "!pip install tensorflow\n",
    "\n",
    "import tensorflow as tf\n",
    "import numpy as np\n",
    "import matplotlib.pyplot as plt\n",
    "import os\n",
    "from tensorflow.keras import layers, models\n",
    "from tensorflow.keras.preprocessing.image import ImageDataGenerator\n"
   ]
  },
  {
   "cell_type": "code",
   "execution_count": null,
   "id": "f40b9cbb-6ed5-4a1a-9370-13ad32d299bd",
   "metadata": {},
   "outputs": [],
   "source": [
    "# 📁 Load dataset (e.g., TrashNet or custom)\n",
    "# Here we simulate by using the tf_flowers dataset for demonstration\n",
    "import tensorflow_datasets as tfds\n",
    "\n",
    "(dataset_train, dataset_val), dataset_info = tfds.load(\n",
    "    'tf_flowers',\n",
    "    split=['train[:80%]', 'train[80%:]'],\n",
    "    with_info=True,\n",
    "    as_supervised=True\n",
    ")\n",
    "\n",
    "IMG_SIZE = (64, 64)\n",
    "BATCH_SIZE = 32\n",
    "\n",
    "def format_img(image, label):\n",
    "    image = tf.image.resize(image, IMG_SIZE) / 255.0\n",
    "    return image, label\n",
    "\n",
    "train = dataset_train.map(format_img).batch(BATCH_SIZE).prefetch(tf.data.AUTOTUNE)\n",
    "val = dataset_val.map(format_img).batch(BATCH_SIZE).prefetch(tf.data.AUTOTUNE)\n"
   ]
  },
  {
   "cell_type": "code",
   "execution_count": null,
   "id": "d7f884b7-c2dd-42b7-83b8-6c07437fcfeb",
   "metadata": {},
   "outputs": [],
   "source": [
    "# 🧠 Define a compact CNN model\n",
    "model = models.Sequential([\n",
    "    layers.Input(shape=(64, 64, 3)),\n",
    "    layers.Conv2D(16, 3, activation='relu'),\n",
    "    layers.MaxPooling2D(),\n",
    "    layers.Conv2D(32, 3, activation='relu'),\n",
    "    layers.MaxPooling2D(),\n",
    "    layers.Flatten(),\n",
    "    layers.Dense(64, activation='relu'),\n",
    "    layers.Dense(dataset_info.features['label'].num_classes, activation='softmax')\n",
    "])\n",
    "\n",
    "model.compile(optimizer='adam',\n",
    "              loss='sparse_categorical_crossentropy',\n",
    "              metrics=['accuracy'])\n",
    "\n",
    "model.summary()\n"
   ]
  },
  {
   "cell_type": "code",
   "execution_count": null,
   "id": "863aa928-8cd0-4019-a53c-2b7361c499d3",
   "metadata": {},
   "outputs": [],
   "source": [
    "# 🚀 Train the model\n",
    "history = model.fit(train, validation_data=val, epochs=5)\n"
   ]
  },
  {
   "cell_type": "code",
   "execution_count": null,
   "id": "687c0de1-8dc5-4b1e-bc5e-00c7453eb08d",
   "metadata": {},
   "outputs": [],
   "source": [
    "# 💾 Save the model\n",
    "model.save(\"recycle_model\")\n"
   ]
  },
  {
   "cell_type": "code",
   "execution_count": null,
   "id": "977e200c-eaf8-4623-b2ec-c0b0901109ce",
   "metadata": {},
   "outputs": [],
   "source": [
    "# 🔄 Convert to TensorFlow Lite\n",
    "converter = tf.lite.TFLiteConverter.from_saved_model(\"recycle_model\")\n",
    "tflite_model = converter.convert()\n",
    "\n",
    "with open(\"recycle_model.tflite\", \"wb\") as f:\n",
    "    f.write(tflite_model)\n"
   ]
  },
  {
   "cell_type": "code",
   "execution_count": null,
   "id": "1e3f9329-6125-4320-8b0e-11328aa27a57",
   "metadata": {},
   "outputs": [],
   "source": [
    "# 🔍 Load and run inference with the TFLite model\n",
    "interpreter = tf.lite.Interpreter(model_path=\"recycle_model.tflite\")\n",
    "interpreter.allocate_tensors()\n",
    "\n",
    "input_details = interpreter.get_input_details()\n",
    "output_details = interpreter.get_output_details()\n",
    "\n",
    "# Prepare a test image\n",
    "for image, label in val.take(1):\n",
    "    img = image[0:1].numpy().astype(np.float32)\n",
    "\n",
    "interpreter.set_tensor(input_details[0]['index'], img)\n",
    "interpreter.invoke()\n",
    "output = interpreter.get_tensor(output_details[0]['index'])\n",
    "\n",
    "print(\"Predicted label:\", np.argmax(output))\n"
   ]
  },
  {
   "cell_type": "markdown",
   "id": "0bb0b40c-9cfa-49e8-a1d8-17463ef97f4c",
   "metadata": {},
   "source": [
    "## 📊 Accuracy & Deployment Summary\n",
    "\n",
    "| Metric              | Value (Example) |\n",
    "|---------------------|-----------------|\n",
    "| Validation Accuracy | ~91%            |\n",
    "| Model Size (TFLite) | ~200 KB         |\n",
    "| Inference Time      | ~30ms/image     |\n",
    "\n",
    "---\n",
    "\n",
    "## ⚡ Benefits of Edge AI in Real-Time Systems\n",
    "\n",
    "- **Low Latency**: Local inference = faster decisions.\n",
    "- **Bandwidth Efficient**: No need for constant cloud access.\n",
    "- **Privacy Preserving**: Sensitive image data stays local.\n",
    "- **Resilient**: Works offline—ideal for remote deployments.\n"
   ]
  },
  {
   "cell_type": "code",
   "execution_count": null,
   "id": "7d4b188a-e9b3-4826-b4a5-d4b1b2f26398",
   "metadata": {},
   "outputs": [],
   "source": []
  }
 ],
 "metadata": {
  "kernelspec": {
   "display_name": "Python 3 (ipykernel)",
   "language": "python",
   "name": "python3"
  },
  "language_info": {
   "codemirror_mode": {
    "name": "ipython",
    "version": 3
   },
   "file_extension": ".py",
   "mimetype": "text/x-python",
   "name": "python",
   "nbconvert_exporter": "python",
   "pygments_lexer": "ipython3",
   "version": "3.13.3"
  }
 },
 "nbformat": 4,
 "nbformat_minor": 5
}
